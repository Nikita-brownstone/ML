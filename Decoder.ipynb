{
 "cells": [
  {
   "cell_type": "code",
   "execution_count": 62,
   "metadata": {},
   "outputs": [],
   "source": [
    "with open(\"C:\\\\Users\\Admin\\Downloads\\dataset_3363_2.txt\", 'r') as data:\n",
    "    s = data.readline().strip()\n",
    "#s = input()\n",
    "i = 1\n",
    "num = ''\n",
    "res = ''\n",
    "k = 0\n",
    "\n",
    "while i < len(s):\n",
    "    if  '0' <= s[i] <= '9':\n",
    "        num += s[i]\n",
    "        k += 1\n",
    "    else:\n",
    "        res += s[i-k-1] * int(num)\n",
    "        k = 0\n",
    "        num = ''\n",
    "    i += 1\n",
    "res += s[i-k-1] * int(num)    \n",
    "with open(\"C:\\\\Users\\\\Admin\\\\Downloads\\\\res.txt\", 'w') as res_data:\n",
    "    res_data.write(str(res))\n",
    "    \n",
    "   \n",
    "        "
   ]
  },
  {
   "cell_type": "code",
   "execution_count": null,
   "metadata": {},
   "outputs": [],
   "source": []
  }
 ],
 "metadata": {
  "kernelspec": {
   "display_name": "Python 3",
   "language": "python",
   "name": "python3"
  },
  "language_info": {
   "codemirror_mode": {
    "name": "ipython",
    "version": 3
   },
   "file_extension": ".py",
   "mimetype": "text/x-python",
   "name": "python",
   "nbconvert_exporter": "python",
   "pygments_lexer": "ipython3",
   "version": "3.8.3"
  }
 },
 "nbformat": 4,
 "nbformat_minor": 4
}
